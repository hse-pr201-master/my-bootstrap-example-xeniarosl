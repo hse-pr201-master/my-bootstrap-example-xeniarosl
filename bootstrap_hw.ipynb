{
 "cells": [
  {
   "cell_type": "markdown",
   "id": "4ae7102e-6739-453e-9822-d386ec2644a8",
   "metadata": {},
   "source": [
    "### Применение бутстрепа в анализе данных по длительности поездки на такси.\n",
    "\n",
    "#### Автор: Тушева Ксения"
   ]
  },
  {
   "cell_type": "code",
   "execution_count": 2,
   "id": "f7b84e76-1cbe-47cf-9e54-93ad959b9f83",
   "metadata": {},
   "outputs": [],
   "source": [
    "import numpy as np\n",
    "import pandas as pd\n",
    "import seaborn as sns\n",
    "from arch.bootstrap import IIDBootstrap, IndependentSamplesBootstrap"
   ]
  },
  {
   "cell_type": "markdown",
   "id": "fbc2eb73-2946-4ee3-bccf-eb462e47295d",
   "metadata": {},
   "source": [
    "Для проведения процедуры бутстрепа используем подвыборку из 30 элементов (х - продолжительность поездки на такси), случайно взятых из генеральной совокупности. Генеральная совокупность представленна данными из соревнования [New York City Taxi Trip Duration](https://www.kaggle.com/c/nyc-taxi-trip-duration/overview)."
   ]
  },
  {
   "cell_type": "code",
   "execution_count": 6,
   "id": "066b308c-27d8-4163-bd83-4f0ea78f2a9c",
   "metadata": {},
   "outputs": [],
   "source": [
    "# Случайно составим подвыборку х\n",
    "df = pd.read_csv(\"/home/ksu/Загрузки/train.csv\")\n",
    "rng = np.random.default_rng(123)\n",
    "x = rng.choice(df['trip_duration'], size=30)"
   ]
  },
  {
   "cell_type": "code",
   "execution_count": 7,
   "id": "2212184d-aded-4d19-8de6-d639c95f844e",
   "metadata": {},
   "outputs": [
    {
     "data": {
      "text/plain": [
       "array([1165,  300,  556,  555,  939,  385,  259,  324, 1283, 1163,  177,\n",
       "        810,  645,  386,  628,  763, 3717,  906,  469,  323,  734,  545,\n",
       "       1274,  358,  453,  587,  510,  989,  470,  446])"
      ]
     },
     "execution_count": 7,
     "metadata": {},
     "output_type": "execute_result"
    }
   ],
   "source": [
    "x "
   ]
  },
  {
   "cell_type": "markdown",
   "id": "7902ad72-633d-4318-a2b7-987094f3ff33",
   "metadata": {},
   "source": [
    "Так как истинное распределение неизвестно - уместно использовать бутстреп"
   ]
  },
  {
   "cell_type": "code",
   "execution_count": 10,
   "id": "3200b693-6c2b-4845-8bc0-1471264b9efc",
   "metadata": {},
   "outputs": [],
   "source": [
    "# Для примера сделаем первую фейковую подвыборку вручную\n",
    "x_star = rng.choice(x, size=len(x))"
   ]
  },
  {
   "cell_type": "code",
   "execution_count": 11,
   "id": "4693bbb4-f060-438c-9684-9d9030b8b2c7",
   "metadata": {},
   "outputs": [
    {
     "data": {
      "text/plain": [
       "array([ 734, 1163,  386, 1165,  545, 1165,  810,  628,  734,  628,  587,\n",
       "        555,  324,  324,  810, 1165,  645,  810,  906,  906, 1283,  645,\n",
       "        763,  587,  556,  469,  556,  324,  386,  453])"
      ]
     },
     "execution_count": 11,
     "metadata": {},
     "output_type": "execute_result"
    }
   ],
   "source": [
    "x_star"
   ]
  },
  {
   "cell_type": "code",
   "execution_count": 13,
   "id": "d1c72bc9-626f-462d-8256-b8e9479f1863",
   "metadata": {},
   "outputs": [
    {
     "data": {
      "text/plain": [
       "array([[478.26      ],\n",
       "       [922.44666667]])"
      ]
     },
     "execution_count": 13,
     "metadata": {},
     "output_type": "execute_result"
    }
   ],
   "source": [
    "# Теперь воспользуемся пакетом для симуляции 12345 подвыборок\n",
    "boot_x = IIDBootstrap(x, seed=123)\n",
    "boot_x.conf_int(np.mean, method='basic', reps=12345, size=0.95)    # получили интервал для мат ожидания (мат ожидание будет принадлежать этому доверительному интервалу с вероятностью 95%)"
   ]
  },
  {
   "cell_type": "markdown",
   "id": "7827cac3-84f1-4596-99c5-3dda69ae720c",
   "metadata": {},
   "source": [
    "Видно, что по генеральной совокурности средняя продолжительность поездки на такси составит от 478 секунд до 922 секунд."
   ]
  },
  {
   "cell_type": "code",
   "execution_count": 14,
   "id": "5143e171-dc2b-4b52-aa77-0fd947a20732",
   "metadata": {},
   "outputs": [
    {
     "data": {
      "text/plain": [
       "array([[ 276.64416597],\n",
       "       [1016.10400266]])"
      ]
     },
     "execution_count": 14,
     "metadata": {},
     "output_type": "execute_result"
    }
   ],
   "source": [
    "boot_x.conf_int(np.std, method='basic', reps=12345, size=0.95)    # получили доверительный интервал в котором лежит ско"
   ]
  },
  {
   "cell_type": "markdown",
   "id": "ccf4a63e-bf7f-428e-8cd9-b66034bb16ba",
   "metadata": {},
   "source": [
    "Отклонение от среднего значения может быть от 276 секунд до 1016 секунд"
   ]
  },
  {
   "cell_type": "markdown",
   "id": "338976da-e70c-4181-b3b4-f4a56eb554e8",
   "metadata": {},
   "source": [
    "Теперь оценик корреляцию между x - длительность поездки и w - количество пассажиров"
   ]
  },
  {
   "cell_type": "code",
   "execution_count": 18,
   "id": "a3d3d68b-2424-4714-95bf-5487ac34c602",
   "metadata": {},
   "outputs": [],
   "source": [
    "w = rng.choice(df['passenger_count'], size=30)"
   ]
  },
  {
   "cell_type": "code",
   "execution_count": 19,
   "id": "2d879270-06c3-4d9c-a6ce-d265cef16cd9",
   "metadata": {},
   "outputs": [
    {
     "data": {
      "text/plain": [
       "array([[1.        , 0.12082711],\n",
       "       [0.12082711, 1.        ]])"
      ]
     },
     "execution_count": 19,
     "metadata": {},
     "output_type": "execute_result"
    }
   ],
   "source": [
    "np.corrcoef(x, w)"
   ]
  },
  {
   "cell_type": "markdown",
   "id": "24ed3540-c9f7-4c74-b84d-b9de94709bdb",
   "metadata": {},
   "source": [
    "По матрице корреляций между двумя признаками, видно, что зависимость между x и w минимальна"
   ]
  },
  {
   "cell_type": "code",
   "execution_count": 22,
   "id": "7ef0326e-7c52-4953-b685-7d7af67c6223",
   "metadata": {},
   "outputs": [],
   "source": [
    "# выведем значение одного коэффициента корреляции\n",
    "def corr(x,y):\n",
    "    corr_mat = np.corrcoef(x,y)\n",
    "    return corr_mat[0, 1]"
   ]
  },
  {
   "cell_type": "code",
   "execution_count": 21,
   "id": "2a74bf9e-2462-4047-9470-8169f7616752",
   "metadata": {},
   "outputs": [
    {
     "data": {
      "text/plain": [
       "0.12082711215317765"
      ]
     },
     "execution_count": 21,
     "metadata": {},
     "output_type": "execute_result"
    }
   ],
   "source": [
    "corr(x, w)"
   ]
  },
  {
   "cell_type": "code",
   "execution_count": 24,
   "id": "55539e7f-1d85-40c1-9028-17f24c7ff4de",
   "metadata": {},
   "outputs": [
    {
     "data": {
      "text/plain": [
       "array([[-0.18539241],\n",
       "       [ 0.3409211 ]])"
      ]
     },
     "execution_count": 24,
     "metadata": {},
     "output_type": "execute_result"
    }
   ],
   "source": [
    "# Через пакет найдем интервал, в котором будет лежать истинное значение корреляции\n",
    "boot_xw = IIDBootstrap(x, w, seed=123)\n",
    "boot_xw.conf_int(corr, method='basic', reps=12345, size=0.95)"
   ]
  },
  {
   "cell_type": "markdown",
   "id": "e6d40b65-c05d-4d82-a084-02bd5df48dc7",
   "metadata": {},
   "source": [
    "Из полученного результата видно, что даже самая ма\n",
    "ксимальная корреляция является незначимой, таким образом, корреляции между рассмотренными величинами нет - продолжительность поездки не зависит от количества пассажиров линейно."
   ]
  },
  {
   "cell_type": "code",
   "execution_count": 38,
   "id": "e2198628-e258-4f46-a98d-d7f0507d733b",
   "metadata": {},
   "outputs": [
    {
     "data": {
      "text/plain": [
       "array([ 1890,  9900,  2400,  4990,  3600,   500, 26500,   544,  4000,\n",
       "       17500, 15000,  6200,  2700,  9800,  3000,  1500,  1500, 13790,\n",
       "        4500, 18650,  6200, 16500, 15800,  6990,  1200, 12250,   750,\n",
       "        2600,  5500,  2200,  8900,  7000,  4125, 14690,  1600,   999,\n",
       "        1200,   300])"
      ]
     },
     "execution_count": 38,
     "metadata": {},
     "output_type": "execute_result"
    }
   ],
   "source": [
    "data = pd.read_csv(\"/home/ksu/Загрузки/autos.csv\")\n",
    "rng = np.random.default_rng(123)\n",
    "d = rng.choice(data['price'], size=38)\n",
    "d"
   ]
  },
  {
   "cell_type": "markdown",
   "id": "b956b9d0-c37b-4684-abac-0cb2146f5723",
   "metadata": {},
   "source": [
    "d - цена на автомобили на вторичном рынке в Германии, х - данные о такси в Нью-. Так что предположим, что выборки независимы друг от друга (базы данных разные)"
   ]
  },
  {
   "cell_type": "code",
   "execution_count": 30,
   "id": "10585cbf-c362-4df7-94e8-5f8b68491567",
   "metadata": {},
   "outputs": [],
   "source": [
    "def mean_diff(x, y):\n",
    "    return np.mean(y)-np.mean(x)"
   ]
  },
  {
   "cell_type": "code",
   "execution_count": 39,
   "id": "6350da29-492f-4362-bdd2-d98997009239",
   "metadata": {},
   "outputs": [
    {
     "data": {
      "text/plain": [
       "array([[3952.54526316],\n",
       "       [7930.04666667]])"
      ]
     },
     "execution_count": 39,
     "metadata": {},
     "output_type": "execute_result"
    }
   ],
   "source": [
    "boot_xd = IndependentSamplesBootstrap(x,d, seed=123)\n",
    "boot_xd.conf_int(mean_diff, reps=12345, size=0.95, method='basic')"
   ]
  },
  {
   "cell_type": "markdown",
   "id": "55b68ca8-fab9-4304-a110-3559f4ae47b8",
   "metadata": {},
   "source": [
    "Разница между настоящими мат ожиданиями этих двух выборок лежит в данном промежутке"
   ]
  }
 ],
 "metadata": {
  "kernelspec": {
   "display_name": "Python 3 (ipykernel)",
   "language": "python",
   "name": "python3"
  },
  "language_info": {
   "codemirror_mode": {
    "name": "ipython",
    "version": 3
   },
   "file_extension": ".py",
   "mimetype": "text/x-python",
   "name": "python",
   "nbconvert_exporter": "python",
   "pygments_lexer": "ipython3",
   "version": "3.10.12"
  }
 },
 "nbformat": 4,
 "nbformat_minor": 5
}
